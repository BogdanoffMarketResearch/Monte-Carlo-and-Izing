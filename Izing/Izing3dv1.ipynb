{
 "cells": [
  {
   "cell_type": "code",
   "execution_count": 137,
   "metadata": {},
   "outputs": [],
   "source": [
    "import math\n",
    "import numpy as np\n",
    "import random as rn\n",
    "import matplotlib.pyplot as plt\n",
    "# dimension -- размерность модели\n",
    "# L -- размер решетки\n",
    "# J -- мера силы взаимодействия\n",
    "# T -- температура\n",
    "# N -- число шагов МК\n",
    "# H -- маг. поле\n",
    "def neighbour_sum_of_spin(x, y, z=None):\n",
    "    \"\"\"\n",
    "    Возвращает сумму спинов ближайших соседей (i,j)-ой частицы\n",
    "    \"\"\"\n",
    "    global dimension\n",
    "    sum = 0\n",
    "    if dimension==2:\n",
    "        ###################################\n",
    "        if (x==0) and (y==0):\n",
    "            sum = spin_matrix[(x+1), y] + spin_matrix[(L-1), y] + spin_matrix[x, (y+1)] + spin_matrix[x, (L-1)] \n",
    "            return sum\n",
    "        if (x==(L-1)) and (y==0):\n",
    "            sum = spin_matrix[0, y] + spin_matrix[(x-1), y] + spin_matrix[x, (y+1)] + spin_matrix[x, (L-1)] \n",
    "            return sum\n",
    "        if (x==0) and (y==(L-1)):\n",
    "            sum = spin_matrix[(x+1), y] + spin_matrix[(L-1), y] + spin_matrix[x, 0] + spin_matrix[x, (y-1)] \n",
    "            return sum\n",
    "        if (x==(L-1)) and (y==(L-1)):\n",
    "            sum = spin_matrix[0, y] + spin_matrix[(x-1), y] + spin_matrix[x, 0] + spin_matrix[x, (y-1)] \n",
    "            return sum\n",
    "        if (x==0):\n",
    "            sum = spin_matrix[(x+1), y] + spin_matrix[(L-1), y] + spin_matrix[x, (y+1)] + spin_matrix[x, (y-1)] \n",
    "            return sum\n",
    "        if (y==0):\n",
    "            sum = spin_matrix[(x+1), y] + spin_matrix[(x-1), y] + spin_matrix[x, (y+1)] + spin_matrix[x, (L-1)] \n",
    "            return sum\n",
    "        if (x==(L-1)):\n",
    "            sum = spin_matrix[0, y] + spin_matrix[(x-1), y] + spin_matrix[x, (y+1)] + spin_matrix[x, (y-1)] \n",
    "            return sum\n",
    "        if (y==(L-1)):\n",
    "            sum = spin_matrix[(x+1), y] + spin_matrix[(x-1), y] + spin_matrix[x, 0] + spin_matrix[x, (y-1)] \n",
    "            return sum\n",
    "        #####################################   \n",
    "        sum = spin_matrix[(x+1), y] + spin_matrix[(x-1), y] + spin_matrix[x, (y+1)] + spin_matrix[x, (y-1)]\n",
    "        return sum\n",
    "    \n",
    "    if dimension==3:   \n",
    "        ###################################\n",
    "        x_up = 0\n",
    "        x_down = 0\n",
    "        y_left = 0\n",
    "        y_right = 0\n",
    "        z_up = 0\n",
    "        z_down = 0\n",
    "        \n",
    "        if (x>0):\n",
    "            x_down = x-1\n",
    "        else:\n",
    "            x_down = L-1\n",
    "            \n",
    "        if (x<(L-1)):\n",
    "            x_up = x+1\n",
    "        else:\n",
    "            x_up = 0\n",
    "            \n",
    "        if (y>0):\n",
    "            y_right = y-1\n",
    "        else:\n",
    "            y_right = L-1\n",
    "            \n",
    "        if (z>0):\n",
    "            z_down = z-1\n",
    "        else:\n",
    "            z_down = L-1\n",
    "            \n",
    "        if (z<(L-1)):\n",
    "            z_up = z+1\n",
    "        else:\n",
    "            z_up = 0    \n",
    "        #####################################   \n",
    "        \n",
    "        sum = spin_matrix[x, y_left, z] + spin_matrix[x, y_right, z] + spin_matrix[x_up, y, z] + spin_matrix[x_down, y, z] \\\n",
    "         + spin_matrix[x, y, z_up] + spin_matrix[x, y, z_down]\n",
    "        return sum\n",
    "\n",
    "\n",
    "def energy():\n",
    "    \"\"\"\n",
    "    Вычисляем полную энергию системы\n",
    "    \"\"\"\n",
    "    global dimension, J, H\n",
    "    energy = 0\n",
    "    if dimension==2:\n",
    "        for i in range(L):\n",
    "            for j in range(L):  \n",
    "                energy += -spin_matrix[i, j]*(0.5*J*neighbour_sum_of_spin(i, j) + H)\n",
    "        return energy\n",
    "    if dimension==3:\n",
    "        for k in range(L):\n",
    "            for i in range(L):\n",
    "                for j in range(L):  \n",
    "                    energy += -spin_matrix[i, j, k]*(0.5*J*neighbour_sum_of_spin(i, j, k) + H)\n",
    "        return energy\n",
    "\n",
    "def mag_moment():\n",
    "    \"\"\"\n",
    "    Вычисляем магнитный момент\n",
    "    \"\"\"\n",
    "    calc_mag_moment = 0\n",
    "    if dimension==2:\n",
    "        for i in range(L):\n",
    "            for j in range(L):  \n",
    "                calc_mag_moment += spin_matrix[i, j]\n",
    "        return calc_mag_moment/(L**2)\n",
    "    if dimension==3:\n",
    "        for k in range(L):\n",
    "            for i in range(L):\n",
    "                for j in range(L):  \n",
    "                    calc_mag_moment += spin_matrix[i, j, k]\n",
    "        return calc_mag_moment/(L**3)\n",
    "    \n",
    "def metropolis_step():\n",
    "    global sum_of_M, sum_of_energy, sum_of_energy_square, sum_of_M_square\n",
    "    \"\"\"\n",
    "    Выполнить один шаг метода Метрополиса \n",
    "    \"\"\"\n",
    "    x = 0\n",
    "    y = 0\n",
    "    z = 0    \n",
    "    if (dimension==2):\n",
    "        x = np.random.randint(L) \n",
    "        y = np.random.randint(L)         \n",
    "        start_energy = energy()\n",
    "        spin_matrix[x,y] *= -1\n",
    "        before_energy = energy()\n",
    "        delta_E = before_energy - start_energy\n",
    "        if (delta_E<=0): #принимаем\n",
    "            sum_of_M += mag_moment()\n",
    "            sum_of_M_square += (mag_moment())**2\n",
    "            sum_of_energy += energy()\n",
    "            sum_of_energy_square += (energy())**2\n",
    "            # определяем значения требуемых физ. величин\n",
    "        if (delta_E>0):\n",
    "            W = math.exp(-(1/T)*delta_E) # вычисляем вероятность перехода\n",
    "            if W>=rn.random():     # принимаем\n",
    "                sum_of_M += mag_moment()\n",
    "                sum_of_M_square += (mag_moment())**2\n",
    "                sum_of_energy += energy() # start_energy\n",
    "                sum_of_energy_square += (energy())**2\n",
    "                # определяем значения требуемых физ. величин\n",
    "            else: \n",
    "                spin_matrix[x,y] *= -1 # не принимаем, возвращаем предыдущую конфигурацию\n",
    "                sum_of_M += mag_moment()\n",
    "                sum_of_M_square += (mag_moment())**2\n",
    "                sum_of_energy += energy() # before_energy\n",
    "                sum_of_energy_square += (energy())**2\n",
    "    # d=3            \n",
    "    if (dimension==3):\n",
    "        x = np.random.randint(L) \n",
    "        y = np.random.randint(L) \n",
    "        z = np.random.randint(L) \n",
    "        start_energy = energy()\n",
    "        spin_matrix[x, y, z] *= -1\n",
    "        before_energy = energy()\n",
    "        delta_E = before_energy - start_energy\n",
    "        if (delta_E<=0): #принимаем\n",
    "            sum_of_M += mag_moment()\n",
    "            sum_of_M_square += (mag_moment())**2\n",
    "            sum_of_energy += energy()\n",
    "            sum_of_energy_square += (energy())**2\n",
    "        if (delta_E>0):\n",
    "            W = math.exp(-(1/T)*delta_E) # вычисляем вероятность перехода\n",
    "            if W>=rn.random():     # принимаем\n",
    "                sum_of_M += mag_moment()\n",
    "                sum_of_M_square += (mag_moment())**2\n",
    "                sum_of_energy += before_energy \n",
    "                sum_of_energy_square += (energy())**2\n",
    "                # определяем значения требуемых физ. величин\n",
    "            else: \n",
    "                spin_matrix[x, y, z] *= -1 # не принимаем, возвращаем предыдущую конфигурацию\n",
    "                sum_of_M += mag_moment()\n",
    "                sum_of_M_square += (mag_moment())**2\n",
    "                sum_of_energy += start_energy\n",
    "                sum_of_energy_square += (energy())**2\n",
    "        \n",
    "\n",
    "def initialize(opt):\n",
    "    \"\"\"\n",
    "    Функция задает начальные расположения спинов\n",
    "    \"\"\"\n",
    "    if (dimension==2): \n",
    "        if opt==\"hot\":\n",
    "            spin_matrix = np.random.randint(2, size=(L, L)) #lxl Lattice with random spin configuration \n",
    "            spin_matrix[spin_matrix==0] = -1 \n",
    "            return spin_matrix\n",
    "        if opt==\"cold\":\n",
    "            spin_matrix = np.random.randint(2, size=(L, L)) #lxl Lattice with random spin configuration \n",
    "            spin_matrix[spin_matrix==0] = -1 \n",
    "            spin_matrix[spin_matrix==1] = -1\n",
    "            return spin_matrix\n",
    "    if (dimension==3):\n",
    "        if opt==\"hot\":\n",
    "            spin_matrix = np.random.randint(2, size=(L, L, L)) #lxl Lattice with random spin configuration \n",
    "            spin_matrix[spin_matrix==0] = -1 \n",
    "            return spin_matrix\n",
    "        if opt==\"cold\":\n",
    "            spin_matrix = np.random.randint(2, size=(L, L, L)) #lxl Lattice with random spin configuration \n",
    "            spin_matrix[spin_matrix==0] = -1 \n",
    "            spin_matrix[spin_matrix==1] = -1\n",
    "            return spin_matrix\n",
    "    \n",
    "def susceptibility():\n",
    "    \"\"\"\n",
    "    Расчет восприимчивости\n",
    "    \"\"\"\n",
    "    global L, N, T, sum_of_M, sum_of_M_square\n",
    "    average_energy = (sum_of_M/N)**2\n",
    "    expected_value = sum_of_M_square/(N) - average_energy\n",
    "    \n",
    "    result = (1/(L**2 * T**2))*expected_value\n",
    "    return result\n",
    "\n",
    "def heat_capacity():\n",
    "    \"\"\"\n",
    "    Расчет теплоемокости\n",
    "    \"\"\"\n",
    "    global L, N, T, sum_of_energy, sum_of_energy_square\n",
    "    average_energy = (sum_of_energy/N)**2\n",
    "    expected_value = sum_of_energy_square/(N) - average_energy\n",
    "    \n",
    "    result = (1/(L**2 * T**2))*expected_value\n",
    "    return result"
   ]
  },
  {
   "cell_type": "code",
   "execution_count": 143,
   "metadata": {},
   "outputs": [],
   "source": []
  },
  {
   "cell_type": "code",
   "execution_count": 144,
   "metadata": {},
   "outputs": [
    {
     "data": {
      "text/plain": [
       "array([[[ 1, -1, -1],\n",
       "        [-1, -1,  1],\n",
       "        [ 1, -1, -1]],\n",
       "\n",
       "       [[-1, -1, -1],\n",
       "        [-1,  1,  1],\n",
       "        [ 1,  1, -1]],\n",
       "\n",
       "       [[-1,  1,  1],\n",
       "        [ 1,  1,  1],\n",
       "        [ 1,  1,  1]]])"
      ]
     },
     "execution_count": 144,
     "metadata": {},
     "output_type": "execute_result"
    }
   ],
   "source": []
  },
  {
   "cell_type": "code",
   "execution_count": 135,
   "metadata": {},
   "outputs": [
    {
     "data": {
      "text/plain": [
       "array([ 1,  1, -1])"
      ]
     },
     "execution_count": 135,
     "metadata": {},
     "output_type": "execute_result"
    }
   ],
   "source": []
  },
  {
   "cell_type": "code",
   "execution_count": 78,
   "metadata": {},
   "outputs": [
    {
     "ename": "IndexError",
     "evalue": "index 4 is out of bounds for axis 1 with size 4",
     "output_type": "error",
     "traceback": [
      "\u001b[1;31m---------------------------------------------------------------------------\u001b[0m",
      "\u001b[1;31mIndexError\u001b[0m                                Traceback (most recent call last)",
      "\u001b[1;32m<ipython-input-78-eba24575c86d>\u001b[0m in \u001b[0;36m<module>\u001b[1;34m\u001b[0m\n\u001b[0;32m     10\u001b[0m \u001b[0menergy_massiv\u001b[0m \u001b[1;33m=\u001b[0m \u001b[1;33m[\u001b[0m\u001b[1;33m]\u001b[0m\u001b[1;33m\u001b[0m\u001b[1;33m\u001b[0m\u001b[0m\n\u001b[0;32m     11\u001b[0m \u001b[0mM_massiv\u001b[0m \u001b[1;33m=\u001b[0m \u001b[1;33m[\u001b[0m\u001b[1;33m]\u001b[0m\u001b[1;33m\u001b[0m\u001b[1;33m\u001b[0m\u001b[0m\n\u001b[1;32m---> 12\u001b[1;33m \u001b[0menergy_massiv\u001b[0m\u001b[1;33m.\u001b[0m\u001b[0mappend\u001b[0m\u001b[1;33m(\u001b[0m\u001b[0menergy\u001b[0m\u001b[1;33m(\u001b[0m\u001b[1;33m)\u001b[0m\u001b[1;33m)\u001b[0m\u001b[1;33m\u001b[0m\u001b[1;33m\u001b[0m\u001b[0m\n\u001b[0m\u001b[0;32m     13\u001b[0m \u001b[0mM_massiv\u001b[0m\u001b[1;33m.\u001b[0m\u001b[0mappend\u001b[0m\u001b[1;33m(\u001b[0m\u001b[0mmag_moment\u001b[0m\u001b[1;33m(\u001b[0m\u001b[1;33m)\u001b[0m\u001b[1;33m)\u001b[0m\u001b[1;33m\u001b[0m\u001b[1;33m\u001b[0m\u001b[0m\n\u001b[0;32m     14\u001b[0m \u001b[1;32mfor\u001b[0m \u001b[0mi\u001b[0m \u001b[1;32min\u001b[0m \u001b[0mrange\u001b[0m\u001b[1;33m(\u001b[0m\u001b[0mN\u001b[0m\u001b[1;33m)\u001b[0m\u001b[1;33m:\u001b[0m\u001b[1;33m\u001b[0m\u001b[1;33m\u001b[0m\u001b[0m\n",
      "\u001b[1;32m<ipython-input-77-6e2c69e95f51>\u001b[0m in \u001b[0;36menergy\u001b[1;34m()\u001b[0m\n\u001b[0;32m    155\u001b[0m             \u001b[1;32mfor\u001b[0m \u001b[0mi\u001b[0m \u001b[1;32min\u001b[0m \u001b[0mrange\u001b[0m\u001b[1;33m(\u001b[0m\u001b[0mL\u001b[0m\u001b[1;33m)\u001b[0m\u001b[1;33m:\u001b[0m\u001b[1;33m\u001b[0m\u001b[1;33m\u001b[0m\u001b[0m\n\u001b[0;32m    156\u001b[0m                 \u001b[1;32mfor\u001b[0m \u001b[0mj\u001b[0m \u001b[1;32min\u001b[0m \u001b[0mrange\u001b[0m\u001b[1;33m(\u001b[0m\u001b[0mL\u001b[0m\u001b[1;33m)\u001b[0m\u001b[1;33m:\u001b[0m\u001b[1;33m\u001b[0m\u001b[1;33m\u001b[0m\u001b[0m\n\u001b[1;32m--> 157\u001b[1;33m                     \u001b[0menergy\u001b[0m \u001b[1;33m+=\u001b[0m \u001b[1;33m-\u001b[0m\u001b[0mspin_matrix\u001b[0m\u001b[1;33m[\u001b[0m\u001b[0mi\u001b[0m\u001b[1;33m,\u001b[0m \u001b[0mj\u001b[0m\u001b[1;33m,\u001b[0m \u001b[0mk\u001b[0m\u001b[1;33m]\u001b[0m\u001b[1;33m*\u001b[0m\u001b[1;33m(\u001b[0m\u001b[1;36m0.5\u001b[0m\u001b[1;33m*\u001b[0m\u001b[0mJ\u001b[0m\u001b[1;33m*\u001b[0m\u001b[0mneighbour_sum_of_spin\u001b[0m\u001b[1;33m(\u001b[0m\u001b[0mi\u001b[0m\u001b[1;33m,\u001b[0m \u001b[0mj\u001b[0m\u001b[1;33m,\u001b[0m \u001b[0mk\u001b[0m\u001b[1;33m)\u001b[0m \u001b[1;33m+\u001b[0m \u001b[0mH\u001b[0m\u001b[1;33m)\u001b[0m\u001b[1;33m\u001b[0m\u001b[1;33m\u001b[0m\u001b[0m\n\u001b[0m\u001b[0;32m    158\u001b[0m         \u001b[1;32mreturn\u001b[0m \u001b[0menergy\u001b[0m\u001b[1;33m\u001b[0m\u001b[1;33m\u001b[0m\u001b[0m\n\u001b[0;32m    159\u001b[0m \u001b[1;33m\u001b[0m\u001b[0m\n",
      "\u001b[1;32m<ipython-input-77-6e2c69e95f51>\u001b[0m in \u001b[0;36mneighbour_sum_of_spin\u001b[1;34m(x, y, z)\u001b[0m\n\u001b[0;32m    100\u001b[0m         \u001b[1;31m# z!=0 and z!=(L-1): находимся внутри где-то\u001b[0m\u001b[1;33m\u001b[0m\u001b[1;33m\u001b[0m\u001b[1;33m\u001b[0m\u001b[0m\n\u001b[0;32m    101\u001b[0m         \u001b[1;32mif\u001b[0m \u001b[1;33m(\u001b[0m\u001b[0mx\u001b[0m\u001b[1;33m==\u001b[0m\u001b[1;36m0\u001b[0m\u001b[1;33m)\u001b[0m \u001b[1;32mand\u001b[0m \u001b[0mz\u001b[0m\u001b[1;33m!=\u001b[0m\u001b[1;36m0\u001b[0m \u001b[1;32mand\u001b[0m \u001b[0mz\u001b[0m\u001b[1;33m!=\u001b[0m\u001b[1;33m(\u001b[0m\u001b[0mL\u001b[0m\u001b[1;33m-\u001b[0m\u001b[1;36m1\u001b[0m\u001b[1;33m)\u001b[0m\u001b[1;33m:\u001b[0m\u001b[1;33m\u001b[0m\u001b[1;33m\u001b[0m\u001b[0m\n\u001b[1;32m--> 102\u001b[1;33m             \u001b[0msum\u001b[0m \u001b[1;33m=\u001b[0m \u001b[0mspin_matrix\u001b[0m\u001b[1;33m[\u001b[0m\u001b[1;33m(\u001b[0m\u001b[0mx\u001b[0m\u001b[1;33m+\u001b[0m\u001b[1;36m1\u001b[0m\u001b[1;33m)\u001b[0m\u001b[1;33m,\u001b[0m \u001b[0my\u001b[0m\u001b[1;33m,\u001b[0m \u001b[0mz\u001b[0m\u001b[1;33m]\u001b[0m \u001b[1;33m+\u001b[0m \u001b[0mspin_matrix\u001b[0m\u001b[1;33m[\u001b[0m\u001b[1;33m(\u001b[0m\u001b[0mL\u001b[0m\u001b[1;33m-\u001b[0m\u001b[1;36m1\u001b[0m\u001b[1;33m)\u001b[0m\u001b[1;33m,\u001b[0m \u001b[0my\u001b[0m\u001b[1;33m,\u001b[0m \u001b[0mz\u001b[0m\u001b[1;33m]\u001b[0m \u001b[1;33m+\u001b[0m \u001b[0mspin_matrix\u001b[0m\u001b[1;33m[\u001b[0m\u001b[0mx\u001b[0m\u001b[1;33m,\u001b[0m \u001b[1;33m(\u001b[0m\u001b[0my\u001b[0m\u001b[1;33m+\u001b[0m\u001b[1;36m1\u001b[0m\u001b[1;33m)\u001b[0m\u001b[1;33m,\u001b[0m \u001b[0mz\u001b[0m\u001b[1;33m]\u001b[0m \u001b[1;33m+\u001b[0m \u001b[0mspin_matrix\u001b[0m\u001b[1;33m[\u001b[0m\u001b[0mx\u001b[0m\u001b[1;33m,\u001b[0m \u001b[1;33m(\u001b[0m\u001b[0my\u001b[0m\u001b[1;33m-\u001b[0m\u001b[1;36m1\u001b[0m\u001b[1;33m)\u001b[0m\u001b[1;33m,\u001b[0m \u001b[0mz\u001b[0m\u001b[1;33m]\u001b[0m\u001b[0;31m \u001b[0m\u001b[0;31m\\\u001b[0m\u001b[1;33m\u001b[0m\u001b[1;33m\u001b[0m\u001b[0m\n\u001b[0m\u001b[0;32m    103\u001b[0m             \u001b[1;33m+\u001b[0m \u001b[0mspin_matrix\u001b[0m\u001b[1;33m[\u001b[0m\u001b[0mx\u001b[0m\u001b[1;33m,\u001b[0m \u001b[0my\u001b[0m\u001b[1;33m,\u001b[0m \u001b[1;33m(\u001b[0m\u001b[0mz\u001b[0m\u001b[1;33m+\u001b[0m\u001b[1;36m1\u001b[0m\u001b[1;33m)\u001b[0m\u001b[1;33m]\u001b[0m \u001b[1;33m+\u001b[0m \u001b[0mspin_matrix\u001b[0m\u001b[1;33m[\u001b[0m\u001b[0mx\u001b[0m\u001b[1;33m,\u001b[0m \u001b[0my\u001b[0m\u001b[1;33m,\u001b[0m \u001b[1;33m(\u001b[0m\u001b[0mz\u001b[0m\u001b[1;33m-\u001b[0m\u001b[1;36m1\u001b[0m\u001b[1;33m)\u001b[0m\u001b[1;33m]\u001b[0m\u001b[1;33m\u001b[0m\u001b[1;33m\u001b[0m\u001b[0m\n\u001b[0;32m    104\u001b[0m             \u001b[1;32mreturn\u001b[0m \u001b[0msum\u001b[0m\u001b[1;33m\u001b[0m\u001b[1;33m\u001b[0m\u001b[0m\n",
      "\u001b[1;31mIndexError\u001b[0m: index 4 is out of bounds for axis 1 with size 4"
     ]
    }
   ],
   "source": [
    "opt=\"cold\"\n",
    "dimension = 2\n",
    "L = 4\n",
    "J = 1\n",
    "T = 1.\n",
    "N = 50000\n",
    "H = 0\n",
    "#sum_of_M = 0 # суммарный магнитный момент\n",
    "#sum_of_energy = 0\n",
    "  \n",
    "avarage_energy_massiv = []\n",
    "M_massiv = []\n",
    "C_massiv = []\n",
    "Hi_massiv = []\n",
    "temperature = np.arange(5, 0.5, -0.1)\n",
    "spin_matrix = initialize(opt)\n",
    "for temp in temperature:\n",
    "    sum_of_M_square = 0 \n",
    "    sum_of_M = 0 \n",
    "    sum_of_energy = 0\n",
    "    sum_of_energy_square = 0\n",
    "    T = temp\n",
    "    for i in range(N):\n",
    "        metropolis_step()\n",
    "    average_energy = (sum_of_energy/N)\n",
    "    avarage_energy_massiv.append(average_energy)\n",
    "    M_massiv.append(sum_of_M/N)\n",
    "    C_massiv.append(heat_capacity())\n",
    "    Hi_massiv.append(susceptibility())"
   ]
  },
  {
   "cell_type": "code",
   "execution_count": 73,
   "metadata": {},
   "outputs": [
    {
     "data": {
      "text/plain": [
       "10.0"
      ]
     },
     "execution_count": 73,
     "metadata": {},
     "output_type": "execute_result"
    }
   ],
   "source": []
  },
  {
   "cell_type": "code",
   "execution_count": 74,
   "metadata": {},
   "outputs": [],
   "source": [
    "             "
   ]
  },
  {
   "cell_type": "code",
   "execution_count": null,
   "metadata": {},
   "outputs": [],
   "source": []
  },
  {
   "cell_type": "code",
   "execution_count": null,
   "metadata": {},
   "outputs": [],
   "source": []
  },
  {
   "cell_type": "code",
   "execution_count": 75,
   "metadata": {},
   "outputs": [
    {
     "data": {
      "image/png": "[encoded data removed]",
      "text/plain": [
       "<Figure size 432x288 with 1 Axes>"
      ]
     },
     "metadata": {
      "needs_background": "light"
     },
     "output_type": "display_data"
    }
   ],
   "source": [
    "fig = plt.figure()\n",
    "plt.plot(temperature, energy_massiv)\n",
    "plt.show()\n",
    "fig.savefig('saved_figure.png')"
   ]
  },
  {
   "cell_type": "code",
   "execution_count": 76,
   "metadata": {},
   "outputs": [
    {
     "data": {
      "image/png": "[encoded data removed]",
      "text/plain": [
       "<Figure size 432x288 with 1 Axes>"
      ]
     },
     "metadata": {
      "needs_background": "light"
     },
     "output_type": "display_data"
    }
   ],
   "source": [
    "fig = plt.figure()\n",
    "plt.plot(temperature, M_massiv)\n",
    "plt.show()\n",
    "fig.savefig('saved_figure_M.png')"
   ]
  },
  {
   "cell_type": "code",
   "execution_count": null,
   "metadata": {},
   "outputs": [],
   "source": []
  },
  {
   "cell_type": "code",
   "execution_count": null,
   "metadata": {},
   "outputs": [],
   "source": []
  },
  {
   "cell_type": "code",
   "execution_count": null,
   "metadata": {},
   "outputs": [],
   "source": []
  },
  {
   "cell_type": "code",
   "execution_count": null,
   "metadata": {},
   "outputs": [],
   "source": []
  },
  {
   "cell_type": "code",
   "execution_count": null,
   "metadata": {},
   "outputs": [],
   "source": []
  },
  {
   "cell_type": "code",
   "execution_count": null,
   "metadata": {},
   "outputs": [],
   "source": []
  },
  {
   "cell_type": "code",
   "execution_count": null,
   "metadata": {},
   "outputs": [],
   "source": []
  },
  {
   "cell_type": "code",
   "execution_count": null,
   "metadata": {},
   "outputs": [],
   "source": []
  },
  {
   "cell_type": "code",
   "execution_count": null,
   "metadata": {},
   "outputs": [],
   "source": []
  },
  {
   "cell_type": "code",
   "execution_count": null,
   "metadata": {},
   "outputs": [],
   "source": []
  },
  {
   "cell_type": "code",
   "execution_count": null,
   "metadata": {},
   "outputs": [],
   "source": []
  },
  {
   "cell_type": "code",
   "execution_count": null,
   "metadata": {},
   "outputs": [],
   "source": []
  }
 ],
 "metadata": {
  "kernelspec": {
   "display_name": "Python 3",
   "language": "python",
   "name": "python3"
  },
  "language_info": {
   "codemirror_mode": {
    "name": "ipython",
    "version": 3
   },
   "file_extension": ".py",
   "mimetype": "text/x-python",
   "name": "python",
   "nbconvert_exporter": "python",
   "pygments_lexer": "ipython3",
   "version": "3.8.5"
  }
 },
 "nbformat": 4,
 "nbformat_minor": 4
}
