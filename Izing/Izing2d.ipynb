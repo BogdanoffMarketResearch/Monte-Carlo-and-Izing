{
 "cells": [
  {
   "cell_type": "code",
   "execution_count": 1,
   "metadata": {},
   "outputs": [],
   "source": [
    "import math\n",
    "import numpy as np\n",
    "import random as rn\n",
    "import matplotlib.pyplot as plt\n",
    "# dimension -- размерность модели\n",
    "# L -- размер решетки\n",
    "# J -- мера силы взаимодействия\n",
    "# T -- температура\n",
    "# N -- число шагов МК\n",
    "# H -- маг. поле\n",
    "def neighbour_sum_of_spin(x, y, z=None):\n",
    "    \"\"\"\n",
    "    Возвращает сумму спинов ближайших соседей (i,j)-ой частицы\n",
    "    \"\"\"\n",
    "    global dimension\n",
    "    sum = 0\n",
    "    if dimension==2:\n",
    "        ###################################        \n",
    "        x_up = 0\n",
    "        x_down = 0\n",
    "        y_up = 0\n",
    "        y_down = 0\n",
    "        \n",
    "        if (x>0):\n",
    "            x_down = x-1\n",
    "        else:\n",
    "            x_down = L-1\n",
    "            \n",
    "        if (x<(L-1)):\n",
    "            x_up = x+1\n",
    "        else:\n",
    "            x_up = 0\n",
    "            \n",
    "        if (y>0):\n",
    "            y_right = y-1\n",
    "        else:\n",
    "            y_right = L-1\n",
    "            \n",
    "        if (y<(L-1)):\n",
    "            y_left = y+1\n",
    "        else:\n",
    "            y_left = 0\n",
    "        \n",
    "#        if (x==0) and (y==0):\n",
    "#            sum = spin_matrix[(x+1), y] + spin_matrix[(L-1), y] + spin_matrix[x, (y+1)] + spin_matrix[x, (L-1)] \n",
    "#            return sum\n",
    "#        if (x==(L-1)) and (y==0):\n",
    "#            sum = spin_matrix[0, y] + spin_matrix[(x-1), y] + spin_matrix[x, (y+1)] + spin_matrix[x, (L-1)] \n",
    "#            return sum\n",
    "#        if (x==0) and (y==(L-1)):\n",
    "#            sum = spin_matrix[(x+1), y] + spin_matrix[(L-1), y] + spin_matrix[x, 0] + spin_matrix[x, (y-1)] \n",
    "#            return sum\n",
    "#        if (x==(L-1)) and (y==(L-1)):\n",
    "#            sum = spin_matrix[0, y] + spin_matrix[(x-1), y] + spin_matrix[x, 0] + spin_matrix[x, (y-1)] \n",
    "#            return sum\n",
    "#        if (x==0):\n",
    "#            sum = sum = spin_matrix[(x+1), y] + spin_matrix[(L-1), y] + spin_matrix[x, (y+1)] + spin_matrix[x, (y-1)] \n",
    "#            return sum\n",
    "#        if (y==0):\n",
    "#            sum = spin_matrix[(x+1), y] + spin_matrix[(x-1), y] + spin_matrix[x, (y+1)] + spin_matrix[x, (L-1)] \n",
    "#            return sum\n",
    "#        if (x==(L-1)):\n",
    "#            sum = spin_matrix[0, y] + spin_matrix[(x-1), y] + spin_matrix[x, (y+1)] + spin_matrix[x, (y-1)] \n",
    "#            return sum\n",
    "#        if (y==(L-1)):\n",
    "#            sum = spin_matrix[(x+1), y] + spin_matrix[(x-1), y] + spin_matrix[x, 0] + spin_matrix[x, (y-1)] \n",
    "#            return sum\n",
    "        #####################################\n",
    "        #print(x,y, x_up, x_down, y_left, y_right)\n",
    "        sum = spin_matrix[x, y_left] + spin_matrix[x, y_right] + spin_matrix[x_up, y] + spin_matrix[x_down, y]\n",
    "        return sum\n",
    "    \n",
    "    if dimension==3:    \n",
    "        sum = spin_matrix[(x+1), y, z] + spin_matrix[(x-1), y, z] \\\n",
    "        + spin_matrix[x, (y+1), z] + spin_matrix[x, (y-1), z] + spin_matrix[x, y, (z+1)] + spin_matrix[x, y, (z-1)]\n",
    "        return sum\n",
    "\n",
    "\n",
    "def energy():\n",
    "    \"\"\"\n",
    "    Вычисляем полную энергию системы\n",
    "    \"\"\"\n",
    "    global dimension, J, H\n",
    "    energy = 0\n",
    "    if dimension==2:\n",
    "        for i in range(L):\n",
    "            for j in range(L):  \n",
    "                energy += -spin_matrix[i, j]*(0.5*J*neighbour_sum_of_spin(i, j) + H)\n",
    "        return energy\n",
    "\n",
    "def mag_moment():\n",
    "    \"\"\"\n",
    "    Вычисляем магнитный момент\n",
    "    \"\"\"\n",
    "    calc_mag_moment = 0\n",
    "    if dimension==2:\n",
    "        for i in range(L):\n",
    "            for j in range(L):  \n",
    "                calc_mag_moment += spin_matrix[i, j]\n",
    "        return calc_mag_moment/(L**2)\n",
    "    \n",
    "def metropolis_step():\n",
    "    global sum_of_M, sum_of_energy, sum_of_energy_square, sum_of_M_square\n",
    "    \"\"\"\n",
    "    Выполнить один шаг метода Метрополиса \n",
    "    \"\"\"\n",
    "    x = 0\n",
    "    y = 0\n",
    "    z = 0    \n",
    "    if (dimension==2):\n",
    "        x = np.random.randint(L) \n",
    "        y = np.random.randint(L)         \n",
    "        start_energy = energy()\n",
    "        spin_matrix[x,y] *= -1\n",
    "        before_energy = energy()\n",
    "        delta_E = before_energy - start_energy\n",
    "        if (delta_E<=0): #принимаем\n",
    "            sum_of_M += mag_moment()\n",
    "            sum_of_M_square += (mag_moment())**2\n",
    "            sum_of_energy += energy()\n",
    "            sum_of_energy_square += (energy())**2\n",
    "            # определяем значения требуемых физ. величин\n",
    "        if (delta_E>0):\n",
    "            W = math.exp(-(1/T)*delta_E) # вычисляем вероятность перехода\n",
    "            if W>=rn.random():     # принимаем\n",
    "                sum_of_M += mag_moment()\n",
    "                sum_of_M_square += (mag_moment())**2\n",
    "                sum_of_energy += before_energy\n",
    "                sum_of_energy_square += (energy())**2\n",
    "                # определяем значения требуемых физ. величин\n",
    "            else: \n",
    "                spin_matrix[x,y] *= -1 # не принимаем, возвращаем предыдущую конфигурацию\n",
    "                sum_of_M += mag_moment()\n",
    "                sum_of_M_square += (mag_moment())**2\n",
    "                sum_of_energy += start_energy\n",
    "                sum_of_energy_square += (energy())**2\n",
    "    if (dimension==3):\n",
    "        x = np.random.randint(L) \n",
    "        y = np.random.randint(L) \n",
    "        z = np.random.randint(L) \n",
    "        step_matrix\n",
    "        return -1\n",
    "\n",
    "def initialize(opt):\n",
    "    \"\"\"\n",
    "    Функция задает начальные расположения спинов\n",
    "    \"\"\"\n",
    "    if opt==\"hot\":\n",
    "        spin_matrix = np.random.randint(2, size=(L, L)) #lxl Lattice with random spin configuration \n",
    "        spin_matrix[spin_matrix==0] = -1 \n",
    "        return spin_matrix\n",
    "    if opt==\"cold\":\n",
    "        spin_matrix = np.random.randint(2, size=(L, L)) #lxl Lattice with random spin configuration \n",
    "        spin_matrix[spin_matrix==0] = -1 \n",
    "        spin_matrix[spin_matrix==1] = -1\n",
    "        return spin_matrix\n",
    "    \n",
    "def susceptibility():\n",
    "    \"\"\"\n",
    "    Расчет восприимчивости\n",
    "    \"\"\"\n",
    "    global L, N, T, sum_of_M, sum_of_M_square\n",
    "    average_energy = (sum_of_M/N)**2\n",
    "    expected_value = sum_of_M_square/(N) - average_energy\n",
    "    \n",
    "    result = (1/(L**2 * T**2))*expected_value\n",
    "    return result\n",
    "\n",
    "def heat_capacity():\n",
    "    \"\"\"\n",
    "    Расчет теплоемокости\n",
    "    \"\"\"\n",
    "    global L, N, T, sum_of_energy, sum_of_energy_square\n",
    "    average_energy = (sum_of_energy/N)**2\n",
    "    expected_value = sum_of_energy_square/(N) - average_energy\n",
    "    \n",
    "    result = (1/(L**2 * T**2))*expected_value\n",
    "    return result\n"
   ]
  },
  {
   "cell_type": "code",
   "execution_count": 46,
   "metadata": {},
   "outputs": [
    {
     "data": {
      "text/plain": [
       "2.6923271803999524"
      ]
     },
     "execution_count": 46,
     "metadata": {},
     "output_type": "execute_result"
    }
   ],
   "source": [
    "C = heat_capacity()\n",
    "C"
   ]
  },
  {
   "cell_type": "code",
   "execution_count": 67,
   "metadata": {},
   "outputs": [
    {
     "name": "stdout",
     "output_type": "stream",
     "text": [
      "30518.692415999998 32076.704 1558.0115840000035 15.580115840000035 -1.0\n"
     ]
    }
   ],
   "source": [
    "average_energy = (sum_of_energy/N)**2\n",
    "summa2 = sum_of_energy_square/(N)\n",
    "Cemp = heat_capacity()\n",
    "print(average_energy, summa2, summa2-average_energy, Cemp, mag_moment())"
   ]
  },
  {
   "cell_type": "code",
   "execution_count": null,
   "metadata": {},
   "outputs": [],
   "source": []
  },
  {
   "cell_type": "code",
   "execution_count": 153,
   "metadata": {},
   "outputs": [],
   "source": [
    "opt=\"cold\"\n",
    "dimension = 2\n",
    "L = 10\n",
    "J = 1\n",
    "T = 1\n",
    "N = 50000\n",
    "H = 0\n",
    "sum_of_M_square = 0\n",
    "sum_of_M = 0 # суммарный магнитный момент\n",
    "sum_of_energy = 0\n",
    "sum_of_energy_square = 0\n",
    "spin_matrix = initialize(opt) #задаем начальное положение спинов\n",
    "#energy_massiv = []\n",
    "#M_massiv = []\n",
    "#energy_massiv.append(energy())\n",
    "#M_massiv.append(mag_moment())\n",
    "for i in range(N):\n",
    "    metropolis_step()\n",
    "    #print(\"Суммарная энергия: %s\"%sum_of_energy)\n",
    "    #print(\"Суммарный магнитный момент: %s\"%sum_of_M)"
   ]
  },
  {
   "cell_type": "code",
   "execution_count": 83,
   "metadata": {},
   "outputs": [
    {
     "data": {
      "text/plain": [
       "array([5. , 4.9, 4.8, 4.7, 4.6, 4.5, 4.4, 4.3, 4.2, 4.1, 4. , 3.9, 3.8,\n",
       "       3.7, 3.6, 3.5, 3.4, 3.3, 3.2, 3.1, 3. , 2.9, 2.8, 2.7, 2.6, 2.5,\n",
       "       2.4, 2.3, 2.2, 2.1, 2. , 1.9, 1.8, 1.7, 1.6, 1.5, 1.4, 1.3, 1.2,\n",
       "       1.1, 1. , 0.9, 0.8, 0.7, 0.6])"
      ]
     },
     "execution_count": 83,
     "metadata": {},
     "output_type": "execute_result"
    }
   ],
   "source": [
    "temperature = np.arange(5, 0.5, -0.1)\n",
    "temperature"
   ]
  },
  {
   "cell_type": "code",
   "execution_count": 84,
   "metadata": {},
   "outputs": [],
   "source": [
    "opt=\"cold\"\n",
    "dimension = 2\n",
    "L = 40\n",
    "J = 1\n",
    "T = 1.\n",
    "N = 50000\n",
    "H = 0\n",
    "#sum_of_M = 0 # суммарный магнитный момент\n",
    "#sum_of_energy = 0\n",
    "  \n",
    "avarage_energy_massiv = []\n",
    "M_massiv = []\n",
    "C_massiv = []\n",
    "temperature = np.arange(5, 0.5, -0.1)\n",
    "spin_matrix = initialize(opt)\n",
    "for temp in temperature:\n",
    "    sum_of_M_square = 0 \n",
    "    sum_of_M = 0 \n",
    "    sum_of_energy = 0\n",
    "    sum_of_energy_square = 0\n",
    "    T = temp\n",
    "    for i in range(N):\n",
    "        metropolis_step()\n",
    "    average_energy = (sum_of_energy/N)\n",
    "    avarage_energy_massiv.append(average_energy)\n",
    "    M_massiv.append(sum_of_M/N)\n",
    "    C_massiv.append(heat_capacity())"
   ]
  },
  {
   "cell_type": "code",
   "execution_count": 89,
   "metadata": {},
   "outputs": [
    {
     "data": {
      "text/plain": [
       "array([5. , 4.9, 4.8, 4.7, 4.6, 4.5, 4.4, 4.3, 4.2, 4.1, 4. , 3.9, 3.8,\n",
       "       3.7, 3.6, 3.5, 3.4, 3.3, 3.2, 3.1, 3. , 2.9, 2.8, 2.7, 2.6, 2.5,\n",
       "       2.4, 2.3, 2.2, 2.1, 2. , 1.9, 1.8, 1.7, 1.6, 1.5, 1.4, 1.3, 1.2,\n",
       "       1.1, 1. , 0.9, 0.8, 0.7, 0.6])"
      ]
     },
     "execution_count": 89,
     "metadata": {},
     "output_type": "execute_result"
    }
   ],
   "source": [
    "temperature"
   ]
  },
  {
   "cell_type": "code",
   "execution_count": null,
   "metadata": {},
   "outputs": [],
   "source": []
  },
  {
   "cell_type": "code",
   "execution_count": 85,
   "metadata": {},
   "outputs": [
    {
     "data": {
      "image/png": "[encoded data removed]",
      "text/plain": [
       "<Figure size 432x288 with 1 Axes>"
      ]
     },
     "metadata": {
      "needs_background": "light"
     },
     "output_type": "display_data"
    }
   ],
   "source": [
    "fig = plt.figure()\n",
    "plt.plot(temperature, avarage_energy_massiv)\n",
    "plt.show()\n",
    "fig.savefig('saved_figure.png')"
   ]
  },
  {
   "cell_type": "code",
   "execution_count": 87,
   "metadata": {},
   "outputs": [
    {
     "data": {
      "image/png": "[encoded data removed]",
      "text/plain": [
       "<Figure size 432x288 with 1 Axes>"
      ]
     },
     "metadata": {
      "needs_background": "light"
     },
     "output_type": "display_data"
    }
   ],
   "source": [
    "fig = plt.figure()\n",
    "plt.plot(temperature, M_massiv)\n",
    "plt.show()\n",
    "fig.savefig('saved_figure_M.png')"
   ]
  },
  {
   "cell_type": "code",
   "execution_count": 88,
   "metadata": {},
   "outputs": [
    {
     "data": {
      "image/png": "[encoded data removed]",
      "text/plain": [
       "<Figure size 432x288 with 1 Axes>"
      ]
     },
     "metadata": {
      "needs_background": "light"
     },
     "output_type": "display_data"
    }
   ],
   "source": [
    "fig = plt.figure()\n",
    "plt.plot(temperature, C_massiv)\n",
    "plt.show()\n",
    "fig.savefig('saved_figure_С.png')"
   ]
  },
  {
   "cell_type": "code",
   "execution_count": 95,
   "metadata": {},
   "outputs": [
    {
     "data": {
      "text/plain": [
       "array([2.5, 2.4, 2.3, 2.2, 2.1])"
      ]
     },
     "execution_count": 95,
     "metadata": {},
     "output_type": "execute_result"
    }
   ],
   "source": [
    "temperature[25:30]"
   ]
  },
  {
   "cell_type": "code",
   "execution_count": 96,
   "metadata": {},
   "outputs": [
    {
     "data": {
      "text/plain": [
       "[0.4874500923289417,\n",
       " 1.1584793854382054,\n",
       " 0.7870821881919746,\n",
       " 1.548640622145339,\n",
       " 0.4030741469604831]"
      ]
     },
     "execution_count": 96,
     "metadata": {},
     "output_type": "execute_result"
    }
   ],
   "source": [
    "C_massiv[25:30]"
   ]
  },
  {
   "cell_type": "code",
   "execution_count": 99,
   "metadata": {},
   "outputs": [
    {
     "data": {
      "text/plain": [
       "1.548640622145339"
      ]
     },
     "execution_count": 99,
     "metadata": {},
     "output_type": "execute_result"
    }
   ],
   "source": [
    "C_massiv[28]"
   ]
  },
  {
   "cell_type": "code",
   "execution_count": 3,
   "metadata": {},
   "outputs": [],
   "source": [
    "def susceptibility():\n",
    "    \"\"\"\n",
    "    Расчет восприимчивости\n",
    "    \"\"\"\n",
    "    global L, N, T, sum_of_M, sum_of_M_square\n",
    "    average_energy = (sum_of_M/N)**2\n",
    "    expected_value = sum_of_M_square/(N) - average_energy\n",
    "    \n",
    "    result = (1/(L**2 * T**2))*expected_value\n",
    "    return result\n"
   ]
  },
  {
   "cell_type": "code",
   "execution_count": null,
   "metadata": {},
   "outputs": [],
   "source": [
    "#temperature_crit = np.arange(2.26, 2.2, -0.002)\n",
    "opt=\"hot\"\n",
    "dimension = 2\n",
    "temperature_crit = 2.2\n",
    "J = 1\n",
    "T = temperature_crit\n",
    "N = 50000\n",
    "H = 0\n",
    "\n",
    "L_massiv = [10, 20, 40]\n",
    "C_with_critical_T = [] # Теплоемкость в крит. точке при разных L\n",
    "Hi_with_critical_T = [] # Восприим. в крит. точке при разных L\n",
    "for new_L in L_massiv:\n",
    "    L = new_L\n",
    "    spin_matrix = initialize(opt) #задаем начальное положение спинов\n",
    "    sum_of_M_square = 0\n",
    "    sum_of_M = 0 # суммарный магнитный момент\n",
    "    sum_of_energy = 0\n",
    "    sum_of_energy_square = 0\n",
    "    N = (L**2)*1000//5\n",
    "    for i in range(N):\n",
    "        metropolis_step()\n",
    "    Hi_with_critical_T.append(susceptibility())\n",
    "    C_with_critical_T.append(heat_capacity())"
   ]
  },
  {
   "cell_type": "code",
   "execution_count": 118,
   "metadata": {},
   "outputs": [
    {
     "data": {
      "text/plain": [
       "[-0.0012553686450328767]"
      ]
     },
     "execution_count": 118,
     "metadata": {},
     "output_type": "execute_result"
    }
   ],
   "source": [
    "Hi_with_critical_T"
   ]
  },
  {
   "cell_type": "code",
   "execution_count": 119,
   "metadata": {},
   "outputs": [
    {
     "data": {
      "text/plain": [
       "[1.4790288366942124]"
      ]
     },
     "execution_count": 119,
     "metadata": {},
     "output_type": "execute_result"
    }
   ],
   "source": [
    "C_with_critical_T"
   ]
  },
  {
   "cell_type": "code",
   "execution_count": null,
   "metadata": {},
   "outputs": [],
   "source": [
    "\n"
   ]
  },
  {
   "cell_type": "code",
   "execution_count": 4,
   "metadata": {},
   "outputs": [],
   "source": [
    "\n",
    "#temperature_crit = np.arange(2.26, 2.2, -0.002)\n",
    "opt=\"hot\"\n",
    "dimension = 2\n",
    "temperature_crit = 2.2\n",
    "J = 1\n",
    "T = temperature_crit\n",
    "N = 50000\n",
    "H = 0\n",
    "\n",
    "L_massiv = [5, 7, 13, 15, 18, 25]\n",
    "C_with_critical_T_new = [] # Теплоемкость в крит. точке при разных L\n",
    "Hi_with_critical_T_new = [] # Восприим. в крит. точке при разных L\n",
    "for new_L in L_massiv:\n",
    "    L = new_L\n",
    "    spin_matrix = initialize(opt) #задаем начальное положение спинов\n",
    "    sum_of_M_square = 0\n",
    "    sum_of_M = 0 # суммарный магнитный момент\n",
    "    sum_of_energy = 0\n",
    "    sum_of_energy_square = 0\n",
    "    N = (L**2)*1000//6\n",
    "    for i in range(N):\n",
    "        metropolis_step()\n",
    "    Hi_with_critical_T_new.append(susceptibility())\n",
    "    C_with_critical_T_new.append(heat_capacity())"
   ]
  },
  {
   "cell_type": "code",
   "execution_count": 17,
   "metadata": {},
   "outputs": [
    {
     "data": {
      "image/png": "[encoded data removed]",
      "text/plain": [
       "<Figure size 432x288 with 1 Axes>"
      ]
     },
     "metadata": {
      "needs_background": "light"
     },
     "output_type": "display_data"
    }
   ],
   "source": [
    "fig = plt.figure()\n",
    "plt.plot(np.log(L_massiv), np.log(Hi_with_critical_T_new))\n",
    "plt.show()\n",
    "#fig.savefig('saved_figure_С.png')"
   ]
  },
  {
   "cell_type": "code",
   "execution_count": 20,
   "metadata": {},
   "outputs": [
    {
     "data": {
      "image/png": "[encoded data removed]",
      "text/plain": [
       "<Figure size 432x288 with 1 Axes>"
      ]
     },
     "metadata": {
      "needs_background": "light"
     },
     "output_type": "display_data"
    }
   ],
   "source": [
    "fig = plt.figure()\n",
    "plt.plot(np.log(L_massiv), np.log(C_with_critical_T_new))\n",
    "plt.show() "
   ]
  },
  {
   "cell_type": "code",
   "execution_count": 14,
   "metadata": {},
   "outputs": [
    {
     "data": {
      "text/plain": [
       "array([1.60943791, 1.94591015, 2.56494936, 2.7080502 , 2.89037176,\n",
       "       3.21887582])"
      ]
     },
     "execution_count": 14,
     "metadata": {},
     "output_type": "execute_result"
    }
   ],
   "source": [
    "np.log(L_massiv)"
   ]
  },
  {
   "cell_type": "code",
   "execution_count": 19,
   "metadata": {},
   "outputs": [
    {
     "data": {
      "text/plain": [
       "[0.5658658222728319,\n",
       " 1.6119214732233187,\n",
       " 2.188185651185176,\n",
       " 1.9810285486715307,\n",
       " 2.5434137457629196,\n",
       " 4.18334010784468]"
      ]
     },
     "execution_count": 19,
     "metadata": {},
     "output_type": "execute_result"
    }
   ],
   "source": [
    "C_with_critical_T_new"
   ]
  },
  {
   "cell_type": "code",
   "execution_count": 21,
   "metadata": {},
   "outputs": [
    {
     "data": {
      "text/plain": [
       "[0.0001503324792345882,\n",
       " 0.0004483968025569746,\n",
       " 4.705183622079869e-05,\n",
       " 4.2489508548803464e-05,\n",
       " 3.347588507879305e-05,\n",
       " 3.3229099874706714e-05]"
      ]
     },
     "execution_count": 21,
     "metadata": {},
     "output_type": "execute_result"
    }
   ],
   "source": [
    "Hi_with_critical_T_new"
   ]
  },
  {
   "cell_type": "code",
   "execution_count": null,
   "metadata": {},
   "outputs": [],
   "source": []
  }
 ],
 "metadata": {
  "kernelspec": {
   "display_name": "Python 3",
   "language": "python",
   "name": "python3"
  },
  "language_info": {
   "codemirror_mode": {
    "name": "ipython",
    "version": 3
   },
   "file_extension": ".py",
   "mimetype": "text/x-python",
   "name": "python",
   "nbconvert_exporter": "python",
   "pygments_lexer": "ipython3",
   "version": "3.8.5"
  }
 },
 "nbformat": 4,
 "nbformat_minor": 4
}
